{
 "cells": [
  {
   "cell_type": "code",
   "execution_count": null,
   "id": "49d3e6f7-b75f-45aa-a62c-0aea731a3b34",
   "metadata": {},
   "outputs": [],
   "source": [
    "pip install scikit-learn xgboost matplotlib\n"
   ]
  },
  {
   "cell_type": "code",
   "execution_count": null,
   "id": "827af765-3c18-4a8e-bc5c-affb4f107ca8",
   "metadata": {},
   "outputs": [],
   "source": [
    "\n",
    "import numpy as np\n",
    "from sklearn.datasets import make_regression\n",
    "from xgboost import XGBRegressor\n",
    "import matplotlib.pyplot as plt\n",
    "from time import time\n",
    "\n",
    "def measure_fit_time(n_samples_list, n_features=20):\n",
    "    times = []\n",
    "\n",
    "    for n in n_samples_list:\n",
    "        print(f\"Обработка {n} строк...\")\n",
    "        X, y = make_regression(n_samples=n, n_features=n_features, noise=0.1)\n",
    "\n",
    "        model = XGBRegressor(n_jobs=-1, tree_method='hist', verbosity=0)\n",
    "\n",
    "        start = time()\n",
    "        model.fit(X, y)\n",
    "        duration = time() - start\n",
    "        times.append(duration)\n",
    "        print(f\"Время обучения: {duration:.2f} секунд\\n\")\n",
    "\n",
    "    return times\n",
    "\n",
    "# Объёмы данных для теста\n",
    "samples = [50_000, 100_000, 250_000, 500_000, 750_000, 1_000_000]\n",
    "\n",
    "# Замер времени\n",
    "fit_times = measure_fit_time(samples)\n",
    "\n",
    "# Построение графика\n",
    "plt.figure(figsize=(10, 6))\n",
    "plt.plot(samples, fit_times, marker='o', color='blue')\n",
    "plt.title('Время обучения XGBRegressor в зависимости от объёма данных')\n",
    "plt.xlabel('Количество строк (samples)')\n",
    "plt.ylabel('Время обучения (секунды)')\n",
    "plt.grid(True)\n",
    "plt.tight_layout()\n",
    "plt.show()\n"
   ]
  }
 ],
 "metadata": {
  "kernelspec": {
   "display_name": "Python [conda env:base] *",
   "language": "python",
   "name": "conda-base-py"
  },
  "language_info": {
   "codemirror_mode": {
    "name": "ipython",
    "version": 3
   },
   "file_extension": ".py",
   "mimetype": "text/x-python",
   "name": "python",
   "nbconvert_exporter": "python",
   "pygments_lexer": "ipython3",
   "version": "3.12.7"
  }
 },
 "nbformat": 4,
 "nbformat_minor": 5
}
